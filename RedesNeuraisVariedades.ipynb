{
  "nbformat": 4,
  "nbformat_minor": 0,
  "metadata": {
    "colab": {
      "name": "Untitled0.ipynb",
      "provenance": [],
      "collapsed_sections": [],
      "authorship_tag": "ABX9TyNdVNoj3Bhi8HbZFckbn1S9",
      "include_colab_link": true
    },
    "kernelspec": {
      "name": "python3",
      "display_name": "Python 3"
    }
  },
  "cells": [
    {
      "cell_type": "markdown",
      "metadata": {
        "id": "view-in-github",
        "colab_type": "text"
      },
      "source": [
        "<a href=\"https://colab.research.google.com/github/Shizuzu/Ola_Mundo/blob/main/RedesNeuraisVariedades.ipynb\" target=\"_parent\"><img src=\"https://colab.research.google.com/assets/colab-badge.svg\" alt=\"Open In Colab\"/></a>"
      ]
    },
    {
      "cell_type": "code",
      "metadata": {
        "id": "MyfhITEMhI8q"
      },
      "source": [
        "import pandas as pd \n",
        "\n",
        "from google.colab import files \n",
        "files.upload()\n",
        "\n",
        "df = pd.read_csv('base_mamografia.csv', sep=';')\n",
        "df"
      ],
      "execution_count": null,
      "outputs": []
    },
    {
      "cell_type": "code",
      "metadata": {
        "id": "mCop1hdTlcBP"
      },
      "source": [
        "#Apagando dados\n",
        "df['Dobro_da_idade'] = df['Idade']*2\n",
        "df"
      ],
      "execution_count": null,
      "outputs": []
    },
    {
      "cell_type": "code",
      "metadata": {
        "id": "j92XzezSmzVC"
      },
      "source": [
        "df.to_csv('dados_alterados.csv', index=False)\n",
        "files.download('dados_alterados.csv')"
      ],
      "execution_count": null,
      "outputs": []
    },
    {
      "cell_type": "code",
      "metadata": {
        "id": "xi13p3v7iYPx"
      },
      "source": [
        "print(df['Idade'])\n",
        "\n",
        "print(df.loc[0])\n",
        "\n",
        "print(df.loc[[0,100,137]])\n",
        "\n",
        "print(df.loc[0:10])\n",
        "\n",
        "print(df.head(30))\n",
        "\n",
        "print(df.tail(5))\n",
        "\n",
        "print(df.loc[[0,1],['Idade','Severidade']])\n",
        "\n",
        "del df['Forma_da_massa']\n",
        "\n",
        "df"
      ],
      "execution_count": null,
      "outputs": []
    },
    {
      "cell_type": "code",
      "metadata": {
        "id": "DSNc1Ay4kJIH"
      },
      "source": [
        "from numpy import NaN, NAN, nan\n",
        "\n",
        "files.upload()\n",
        "\n",
        "df = pd.read_csv('base_mamografia_com_dados_ausentes.csv', sep=';')"
      ],
      "execution_count": null,
      "outputs": []
    },
    {
      "cell_type": "code",
      "metadata": {
        "id": "-49ZJZIRoBjU"
      },
      "source": [
        "print('Número de linhas da base:', df.shape[0])\n",
        "\n",
        "print(df.count())\n",
        "\n",
        "num_linhas = df.shape[0]\n",
        "num_ausentes = num_linhas - df.count()\n",
        "print('***********************************')\n",
        "print(num_ausentes)\n",
        "\n",
        "valores_ausentes = df.isnull()\n",
        "print(valores_ausentes)\n",
        "\n",
        "#substituir dados ausentes\n",
        "\n",
        "df = df.fillna(0)\n",
        "df"
      ],
      "execution_count": null,
      "outputs": []
    },
    {
      "cell_type": "code",
      "metadata": {
        "id": "nK3AOXOlqiX9"
      },
      "source": [
        "files.upload()\n",
        "df = pd.read_csv('base_mamografia_com_dados_ausentes.csv', sep=';')\n",
        "print(df)"
      ],
      "execution_count": null,
      "outputs": []
    },
    {
      "cell_type": "code",
      "metadata": {
        "id": "ZFb4ALwBroL6"
      },
      "source": [
        "df = df.fillna(method='ffill').iloc[0:980,0:7]\n",
        "df"
      ],
      "execution_count": null,
      "outputs": []
    },
    {
      "cell_type": "code",
      "metadata": {
        "id": "YdEmE884rV2-"
      },
      "source": [
        "files.upload()\n",
        "\n",
        "df = pd.read_csv('base_mamografia_com_dados_ausentes.csv', sep=';')\n",
        "\n",
        "print(df)\n",
        "\n",
        "df = df.fillna(df.mean())\n",
        "df"
      ],
      "execution_count": null,
      "outputs": []
    },
    {
      "cell_type": "markdown",
      "metadata": {
        "id": "Ty-IG5rctHw3"
      },
      "source": [
        ""
      ]
    },
    {
      "cell_type": "code",
      "metadata": {
        "id": "aAayjttrsDD-"
      },
      "source": [
        "df = df.dropna()\n",
        "df.shape[0]"
      ],
      "execution_count": null,
      "outputs": []
    },
    {
      "cell_type": "code",
      "metadata": {
        "id": "udvxVLJtsLND"
      },
      "source": [
        "files.upload()\n",
        "df = pd.read_csv('base_mamografia_com_dados_ausentes.csv', sep=';')"
      ],
      "execution_count": null,
      "outputs": []
    },
    {
      "cell_type": "code",
      "metadata": {
        "id": "nRApTOiAsyUk"
      },
      "source": [
        "df = df.fillna(df.mean())\n",
        "df"
      ],
      "execution_count": null,
      "outputs": []
    },
    {
      "cell_type": "code",
      "metadata": {
        "id": "Q9vC3lP1uY_7"
      },
      "source": [
        "df1 = df\n",
        "df2 = df\n",
        "df_count = pd.concat([df1,df2])\n",
        "df_count"
      ],
      "execution_count": null,
      "outputs": []
    },
    {
      "cell_type": "code",
      "metadata": {
        "id": "ruZ9Ydhku4mf"
      },
      "source": [
        "files.upload()\n",
        "df = pd.read_csv('base_mamografia.csv', sep=';')"
      ],
      "execution_count": null,
      "outputs": []
    },
    {
      "cell_type": "code",
      "metadata": {
        "id": "pg8fUZNJu_KP"
      },
      "source": [
        "#Removendo dados redundantes\n",
        "df.drop_duplicates(inplace=True)\n",
        "df"
      ],
      "execution_count": null,
      "outputs": []
    },
    {
      "cell_type": "code",
      "metadata": {
        "id": "UjHNgQx9vJu2"
      },
      "source": [
        "#Amostragem simples\n",
        "amostra1 = df.sample(100)\n",
        "amostra1"
      ],
      "execution_count": null,
      "outputs": []
    },
    {
      "cell_type": "code",
      "metadata": {
        "id": "rE4jDue9xcIK"
      },
      "source": [
        "files.upload()\n",
        "\n",
        "df = pd.read_csv('baloes_dados_inconsistentes.csv', sep=';')"
      ],
      "execution_count": null,
      "outputs": []
    },
    {
      "cell_type": "code",
      "metadata": {
        "id": "Hg3fgZr4y3zf"
      },
      "source": [
        "def padroniza_crianca(x):\n",
        "  if(x=='infantil'):\n",
        "    return 'criança'\n",
        "  if(x=='menor'):\n",
        "    return 'criança'\n",
        "  if(x=='adulto') or (x=='criança'):\n",
        "    return x\n",
        "\n",
        "df['Idade'] = df['Idade'].apply(padroniza_crianca)\n",
        "df"
      ],
      "execution_count": null,
      "outputs": []
    },
    {
      "cell_type": "code",
      "metadata": {
        "id": "i_QnodcI0Nsi"
      },
      "source": [
        "files.upload()\n",
        "df = pd.read_csv('baloes_dados_inconsistentes.csv', sep=';')"
      ],
      "execution_count": null,
      "outputs": []
    },
    {
      "cell_type": "code",
      "metadata": {
        "id": "aO3My-u_1Gxe"
      },
      "source": [
        "convertido = pd.get_dummies(df['Ação'])\n",
        "convertido\n",
        "\n",
        "#Converter em Atributos categóricos;Concatenando\n",
        "df = pd.concat([df,convertido], axis=1)\n",
        "df = df.drop(columns['Ação'])\n",
        "df"
      ],
      "execution_count": null,
      "outputs": []
    },
    {
      "cell_type": "code",
      "metadata": {
        "id": "OC4TzYki1hdf"
      },
      "source": [
        "from sklearn.preprocessing import minmax_scale\n",
        "from sklearn.preprocessing import scale\n",
        "\n",
        "df = pd.read_csv('base_mamografia_com_dados_ausentes.csv', sep=';')\n",
        "\n",
        "cols = list(df.columns)\n",
        "  cols.remove('Severidade')\n",
        "  cols\n",
        "\n",
        "dados_amp = df.copy()\n",
        "  dados_amp[cols] = df[cols].apply(minmax_scale)\n",
        "  dados_amp"
      ],
      "execution_count": null,
      "outputs": []
    },
    {
      "cell_type": "code",
      "metadata": {
        "id": "iW1FoQiy4-o6"
      },
      "source": [
        ""
      ],
      "execution_count": null,
      "outputs": []
    }
  ]
}